{
 "cells": [
  {
   "cell_type": "markdown",
   "metadata": {},
   "source": [
    "# Exploratory Analysis\n",
    "\n",
    "Let us create some dataframes from the raw data so we can visualize them with ggplot (in R) later. Also, let us observe patterns in the ingredients names, so we can combine overlapping features. Interesting things to visualize:\n",
    "\n",
    "a) ingredient frequencies <br>\n",
    "b) ingredient frequencies per cuisine <br>\n",
    "c) number of ingredients per cuisine (and std dev) <br>\n",
    "d) bag ingredients into classifications: spicy, herbs, condiments, meat (beef, pork, chicken), etc.. <br>\n",
    "e) similarity between cuisines and recipes -> graph of recipes! <br>\n",
    "f) same ingredient with different names -> edit dist?"
   ]
  },
  {
   "cell_type": "code",
   "execution_count": null,
   "metadata": {
    "collapsed": true
   },
   "outputs": [],
   "source": [
    "# starting up a console attached to this kernel\n",
    "%qtconsole\n",
    "import os\n",
    "\n",
    "# importing base code\n",
    "os.chdir('D:\\\\Projetos & Estudos\\\\Kaggle\\\\code')\n",
    "from base import *\n",
    "\n",
    "# changing to competition dir\n",
    "os.chdir('D:\\\\Projetos & Estudos\\\\Kaggle\\\\whats-cooking')"
   ]
  },
  {
   "cell_type": "code",
   "execution_count": null,
   "metadata": {
    "collapsed": true
   },
   "outputs": [],
   "source": [
    "# reading files\n",
    "train = pd.read_json('./raw-data/train.json')\n",
    "test = pd.read_json('./raw-data/test.json')"
   ]
  },
  {
   "cell_type": "code",
   "execution_count": null,
   "metadata": {
    "collapsed": true
   },
   "outputs": [],
   "source": []
  }
 ],
 "metadata": {
  "kernelspec": {
   "display_name": "Python 2",
   "language": "python",
   "name": "python2"
  },
  "language_info": {
   "codemirror_mode": {
    "name": "ipython",
    "version": 2
   },
   "file_extension": ".py",
   "mimetype": "text/x-python",
   "name": "python",
   "nbconvert_exporter": "python",
   "pygments_lexer": "ipython2",
   "version": "2.7.10"
  }
 },
 "nbformat": 4,
 "nbformat_minor": 0
}
