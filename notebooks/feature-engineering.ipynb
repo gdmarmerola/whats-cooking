{
 "cells": [
  {
   "cell_type": "markdown",
   "metadata": {},
   "source": [
    "# Feature Engineering\n",
    "\n",
    "Create and modify features!"
   ]
  },
  {
   "cell_type": "code",
   "execution_count": 3,
   "metadata": {
    "collapsed": false
   },
   "outputs": [],
   "source": [
    "# starting up a console attached to this kernel\n",
    "%qtconsole\n",
    "import os\n",
    "\n",
    "# importing base code\n",
    "os.chdir('/your-path/whats-cooking/code')\n",
    "from base import *\n",
    "\n",
    "# changing to competition dir\n",
    "os.chdir('/your-path/whats-cooking')"
   ]
  },
  {
   "cell_type": "code",
   "execution_count": 4,
   "metadata": {
    "collapsed": false
   },
   "outputs": [],
   "source": [
    "# reading files\n",
    "train = pd.read_json('./raw-data/train.json')\n",
    "test = pd.read_json('./raw-data/test.json')"
   ]
  },
  {
   "cell_type": "markdown",
   "metadata": {},
   "source": [
    "First, let us define the encoding for the cuisine labels."
   ]
  },
  {
   "cell_type": "code",
   "execution_count": null,
   "metadata": {
    "collapsed": false
   },
   "outputs": [],
   "source": [
    "# creating encoding\n",
    "y = train['cuisine']\n",
    "enc_dict = {}\n",
    "for i, label in enumerate(y.value_counts().index):\n",
    "    enc_dict[label] = i + 1\n",
    "\n",
    "# saving\n",
    "with open('./raw-data/enc_dict.txt', 'w') as f:\n",
    "    f.write(str(enc_dict))\n",
    "\n",
    "# replacing\n",
    "print enc_dict\n",
    "print y.replace(enc_dict)[0:10]"
   ]
  },
  {
   "cell_type": "markdown",
   "metadata": {
    "collapsed": true
   },
   "source": [
    "### Stemming and ingredient overlapping\n",
    "\n",
    "The raw data has too much features, rendering computation ineficcient. Let us stem and process the ingredients names so we can reduce dimensionality.\n",
    "\n",
    "#### Stemming, tokenizing and splitting\n",
    "\n",
    "Stem all words after tokenizing: if a single ingredient has 3 words ('grilled chicken breast', for instance) it will be transformed into 3 separate stemmed tokens. "
   ]
  },
  {
   "cell_type": "code",
   "execution_count": null,
   "metadata": {
    "collapsed": false,
    "scrolled": true
   },
   "outputs": [],
   "source": [
    "# reading files\n",
    "train = pd.read_json('./raw-data/train.json')\n",
    "test = pd.read_json('./raw-data/test.json')\n",
    "\n",
    "# stemmer\n",
    "stm = SnowballStemmer('english').stem\n",
    "tknz = nltk.word_tokenize\n",
    "\n",
    "# train\n",
    "for row, data in train.iterrows():\n",
    "    new_ings = []\n",
    "    for ing in data['ingredients']:\n",
    "        for token in tknz(ing):\n",
    "            new_ings.append(stm(token))\n",
    "    train['ingredients'][row] = new_ings\n",
    "    print 'progress:', row, '/', len(train)\n",
    "\n",
    "# test\n",
    "for row, data in test.iterrows():\n",
    "    new_ings = []\n",
    "    for ing in data['ingredients']:\n",
    "        for token in tknz(ing):\n",
    "            new_ings.append(stm(token))\n",
    "    test['ingredients'][row] = new_ings  \n",
    "    print 'progress:', row, '/', len(test)\n",
    "    \n",
    "# saving\n",
    "train.to_json('./eng-data/stemmed-tknz/train.json', orient='records')\n",
    "test.to_json('./eng-data/stemmed-tknz/test.json', orient='records')"
   ]
  },
  {
   "cell_type": "markdown",
   "metadata": {},
   "source": [
    "#### Stemming, tokenizing, and joining back\n",
    "\n",
    "In this case, a 3-word ingredient would have all of its words tokenized, stemmed and then joined back together. "
   ]
  },
  {
   "cell_type": "code",
   "execution_count": null,
   "metadata": {
    "collapsed": true
   },
   "outputs": [],
   "source": [
    "# reading files\n",
    "train = pd.read_json('./raw-data/train.json')\n",
    "test = pd.read_json('./raw-data/test.json')\n",
    "\n",
    "# stemmer\n",
    "stm = SnowballStemmer('english').stem\n",
    "tknz = nltk.word_tokenize\n",
    "\n",
    "# train\n",
    "for row, data in train.iterrows():\n",
    "    new_ings = []\n",
    "    for ing in data['ingredients']:\n",
    "        ing_words = []\n",
    "        for token in tknz(ing):\n",
    "            ing_words.append(stm(token))\n",
    "        new_ings.append(' '.join(ing_words))\n",
    "    train['ingredients'][row] = new_ings\n",
    "    print 'progress:', row, '/', len(train)\n",
    "\n",
    "# test\n",
    "for row, data in test.iterrows():\n",
    "    new_ings = []\n",
    "    for ing in data['ingredients']:\n",
    "        ing_words = []\n",
    "        for token in tknz(ing):\n",
    "            ing_words.append(stm(token))\n",
    "        new_ings.append(' '.join(ing_words))\n",
    "    test['ingredients'][row] = new_ings  \n",
    "    print 'progress:', row, '/', len(test)\n",
    "    \n",
    "# saving\n",
    "train.to_json('./eng-data/stemmed-joined/train.json', orient='records')\n",
    "test.to_json('./eng-data/stemmed-joined/test.json', orient='records')"
   ]
  },
  {
   "cell_type": "markdown",
   "metadata": {
    "collapsed": true
   },
   "source": [
    "#### Stemming, tokenizing and building n-grams\n",
    "\n",
    "First, we build 1-grams out of ingredients names. Then we stemmed and joined back ingredients to original names. \n",
    "\n",
    "Now, we build n-grams out of the names, and explode the number of features."
   ]
  },
  {
   "cell_type": "code",
   "execution_count": 7,
   "metadata": {
    "collapsed": false
   },
   "outputs": [],
   "source": [
    "# reading the data\n",
    "train = pd.read_json('./eng-data/stemmed-tknz/train.json')\n",
    "test = pd.read_json('./eng-data/stemmed-tknz/test.json')\n",
    "\n",
    "combi = pd.concat([train, test])\n",
    "end_train = len(train)\n",
    "end_test = len(train) + len(test)\n",
    "\n",
    "do_nothing = lambda x: x \n",
    "tf_idf_vect = TfidfVectorizer(preprocessor=do_nothing,\n",
    "                              ngram_range=(1,5),\n",
    "                              min_df=8)\n",
    "\n",
    "string_join = lambda x: ' '.join(x) \n",
    "corpus = map(string_join, combi['ingredients'])\n",
    "\n",
    "train_mat = tf_idf_vect.fit_transform(corpus[0:end_train])\n",
    "test_mat = tf_idf_vect.transform(corpus[end_train:end_test])\n",
    "\n",
    "save_sparse_csr('./eng-data/stemmed-word5-min8/train.npz', train_mat)\n",
    "save_sparse_csr('./eng-data/stemmed-word5-min8/test.npz', test_mat)"
   ]
  },
  {
   "cell_type": "code",
   "execution_count": null,
   "metadata": {
    "collapsed": true
   },
   "outputs": [],
   "source": []
  }
 ],
 "metadata": {
  "kernelspec": {
   "display_name": "Python 2",
   "language": "python",
   "name": "python2"
  },
  "language_info": {
   "codemirror_mode": {
    "name": "ipython",
    "version": 2
   },
   "file_extension": ".py",
   "mimetype": "text/x-python",
   "name": "python",
   "nbconvert_exporter": "python",
   "pygments_lexer": "ipython2",
   "version": "2.7.10"
  }
 },
 "nbformat": 4,
 "nbformat_minor": 0
}
