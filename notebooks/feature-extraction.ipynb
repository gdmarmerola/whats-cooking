{
 "cells": [
  {
   "cell_type": "markdown",
   "metadata": {},
   "source": [
    "# Feature extraction\n",
    "\n",
    "Let us try different combinations of feature extraction techniques."
   ]
  },
  {
   "cell_type": "code",
   "execution_count": null,
   "metadata": {
    "collapsed": false
   },
   "outputs": [],
   "source": [
    "# starting up a console attached to this kernel\n",
    "%qtconsole\n",
    "import os\n",
    "\n",
    "# importing base code\n",
    "os.chdir('/your-path/whats-cooking/code')\n",
    "from base import *\n",
    "\n",
    "# changing to competition dir\n",
    "os.chdir('/your-path/whats-cooking')"
   ]
  },
  {
   "cell_type": "code",
   "execution_count": null,
   "metadata": {
    "collapsed": false
   },
   "outputs": [],
   "source": [
    "# reading files\n",
    "# also trying with stemmed data\n",
    "path = './eng-data/stemmed-joined'\n",
    "train = pd.read_json(path + '/train.json')\n",
    "test = pd.read_json(path + '/test.json')\n",
    "\n",
    "# read dict literal\n",
    "with open(path + '/ing_dict.txt', 'r') as f:\n",
    "    ing_dict = ast.literal_eval(f.read())"
   ]
  },
  {
   "cell_type": "markdown",
   "metadata": {},
   "source": [
    "Let us test 3 different ideas: \n",
    "\n",
    "a) use term frequency counts as features <br>\n",
    "b) tf-idf with D (space of documents) being the recipes <br>\n",
    "c) tf-idf with D being the labels\n",
    "\n",
    "### Term frequency counts\n",
    "\n",
    "We can use the CountVectorizer class to perform this operation:"
   ]
  },
  {
   "cell_type": "code",
   "execution_count": null,
   "metadata": {
    "collapsed": false
   },
   "outputs": [],
   "source": [
    "# dummy function, as we want to override the sklearn analyser\n",
    "# and use what is inside the existing lists as tokens\n",
    "do_nothing = lambda x: x \n",
    "\n",
    "# this instance will count the word's frequencies\n",
    "cvect = CountVectorizer(analyzer=do_nothing,\n",
    "                        vocabulary=ing_dict)\n",
    "# getting corpus\n",
    "combi = pd.concat([train, test])\n",
    "corpus = combi['ingredients']\n",
    "\n",
    "# build count matrix\n",
    "count_mat = cvect.transform(corpus)\n",
    "\n",
    "# test/train split points\n",
    "end_train = len(train)\n",
    "end_test = len(combi)\n",
    "\n",
    "# split and save\n",
    "save_sparse_csr(path + '/counts-train.npz', count_mat[0:end_train])\n",
    "save_sparse_csr(path + '/counts-test.npz', count_mat[end_train:end_test])"
   ]
  },
  {
   "cell_type": "markdown",
   "metadata": {},
   "source": [
    "### tf-idf with recipes as documents\n",
    "\n",
    "Same as before, but using TfidfVectorizer."
   ]
  },
  {
   "cell_type": "code",
   "execution_count": null,
   "metadata": {
    "collapsed": false
   },
   "outputs": [],
   "source": [
    "# dummy function, as we want to override the sklearn analyser\n",
    "# and use what is inside the existing lists as tokens\n",
    "do_nothing = lambda x: x \n",
    "\n",
    "# this instance will count the word's frequencies\n",
    "tf_idf_vect = TfidfVectorizer(analyzer=do_nothing,\n",
    "                              vocabulary=ing_dict)\n",
    "# getting corpus\n",
    "combi = pd.concat([train, test])\n",
    "corpus = combi['ingredients']\n",
    "\n",
    "# build count matrix\n",
    "tfidf_mat = tf_idf_vect.fit_transform(corpus)\n",
    "\n",
    "# test/train split points\n",
    "end_train = len(train)\n",
    "end_test = len(combi)\n",
    "\n",
    "# split and save\n",
    "save_sparse_csr(path + '/tfidf-train.npz', tfidf_mat[0:end_train])\n",
    "save_sparse_csr(path + '/tfidf-test.npz', tfidf_mat[end_train:end_test])"
   ]
  },
  {
   "cell_type": "markdown",
   "metadata": {},
   "source": [
    "### tf-idf with labels as documents\n",
    "\n",
    "Now, we want the counts for each recipe, but we want to weigh the terms with respect to their presence in the cuisines."
   ]
  },
  {
   "cell_type": "code",
   "execution_count": null,
   "metadata": {
    "collapsed": false
   },
   "outputs": [],
   "source": [
    "# we've already got the counts matrix\n",
    "print count_mat[0]"
   ]
  },
  {
   "cell_type": "markdown",
   "metadata": {},
   "source": [
    "How many different cuisines there are?"
   ]
  },
  {
   "cell_type": "code",
   "execution_count": null,
   "metadata": {
    "collapsed": false
   },
   "outputs": [],
   "source": [
    "print train['cuisine'].value_counts()\n",
    "print 'number of cuisines:', len(train['cuisine'].value_counts())"
   ]
  },
  {
   "cell_type": "markdown",
   "metadata": {},
   "source": [
    "Let us first build a dictionary with ingredients relating to their cuisine."
   ]
  },
  {
   "cell_type": "code",
   "execution_count": null,
   "metadata": {
    "collapsed": false
   },
   "outputs": [],
   "source": [
    "cuisine_dict = {}\n",
    "# writing one column per ingredient\n",
    "# iterating over rows is bad practice, but this is a small dataset\n",
    "for row, data in train.iterrows():\n",
    "    for ingredient in data['ingredients']:\n",
    "        try:\n",
    "            if data['cuisine'] not in cuisine_dict[ingredient]:\n",
    "                cuisine_dict[ingredient].append(data['cuisine'])\n",
    "        except KeyError:\n",
    "            cuisine_dict[ingredient] = [data['cuisine']]"
   ]
  },
  {
   "cell_type": "markdown",
   "metadata": {},
   "source": [
    "Let us now build a frequency dictionary for ingredients: In how many cuisines has the ingredient appeared?"
   ]
  },
  {
   "cell_type": "code",
   "execution_count": null,
   "metadata": {
    "collapsed": false
   },
   "outputs": [],
   "source": [
    "docfreq_dict = {}\n",
    "for key in cuisine_dict.keys():\n",
    "    docfreq_dict[key] = len(cuisine_dict[key]) \n",
    "\n",
    "# ordering the dict \n",
    "import operator\n",
    "sorted_docfreqs = sorted(docfreq_dict.items(), key=operator.itemgetter(1), reverse=True)"
   ]
  },
  {
   "cell_type": "markdown",
   "metadata": {},
   "source": [
    "Let us visualize these:"
   ]
  },
  {
   "cell_type": "code",
   "execution_count": null,
   "metadata": {
    "collapsed": false
   },
   "outputs": [],
   "source": [
    "print '25 ingredients who appear most throughout cuisines:'\n",
    "print sorted_docfreqs[0:25]\n",
    "print '25 ingredients who appear less throughout cuisines:'\n",
    "print sorted_docfreqs[-25:-1]"
   ]
  },
  {
   "cell_type": "markdown",
   "metadata": {},
   "source": [
    "Now, idf(t) = log N / (1 + D_t). <br>\n",
    "\n",
    "N = number of documents (in this case cuisines). <br>\n",
    "D_t = number of documents where term t appears.\n",
    "\n",
    "Let us weigh the counts matrix:"
   ]
  },
  {
   "cell_type": "code",
   "execution_count": null,
   "metadata": {
    "collapsed": false,
    "scrolled": true
   },
   "outputs": [],
   "source": [
    "# we will need the ingredients dictionary\n",
    "with open(path + '/ing_dict.txt', 'r') as f:\n",
    "    ing_dict = ast.literal_eval(f.read())\n",
    "\n",
    "from __future__ import division    \n",
    "cuisinefreqs_mat = copy.deepcopy(count_mat)    \n",
    "    \n",
    "# each column will have the same weight - term weight\n",
    "for term in ing_dict.keys():\n",
    "    weight = 1 + np.log(20/(1 + docfreq_dict[term]))\n",
    "    nonzero_terms = cuisinefreqs_mat[:, ing_dict[term]].nonzero()[0]\n",
    "    cuisinefreqs_mat[nonzero_terms, ing_dict[term]] = weight"
   ]
  },
  {
   "cell_type": "markdown",
   "metadata": {},
   "source": [
    "Save our third representation:"
   ]
  },
  {
   "cell_type": "code",
   "execution_count": null,
   "metadata": {
    "collapsed": true
   },
   "outputs": [],
   "source": [
    "# test/train split points\n",
    "end_train = len(train)\n",
    "end_test = len(combi)\n",
    "\n",
    "# split and save\n",
    "save_sparse_csr(path + '/cuisinefreqs-train.npz', cuisinefreqs_mat[0:end_train])\n",
    "save_sparse_csr(path + '/cuisinefreqs-test.npz', cuisinefreqs_mat[end_train:end_test])"
   ]
  },
  {
   "cell_type": "markdown",
   "metadata": {},
   "source": [
    "Check differences between our representations:"
   ]
  },
  {
   "cell_type": "code",
   "execution_count": null,
   "metadata": {
    "collapsed": false
   },
   "outputs": [],
   "source": [
    "# visualize all representations\n",
    "print count_mat[0]\n",
    "print tfidf_mat[0]\n",
    "print cuisinefreqs_mat[0]"
   ]
  },
  {
   "cell_type": "markdown",
   "metadata": {
    "collapsed": true
   },
   "source": []
  },
  {
   "cell_type": "code",
   "execution_count": null,
   "metadata": {
    "collapsed": true
   },
   "outputs": [],
   "source": []
  }
 ],
 "metadata": {
  "kernelspec": {
   "display_name": "Python 2",
   "language": "python",
   "name": "python2"
  },
  "language_info": {
   "codemirror_mode": {
    "name": "ipython",
    "version": 2
   },
   "file_extension": ".py",
   "mimetype": "text/x-python",
   "name": "python",
   "nbconvert_exporter": "python",
   "pygments_lexer": "ipython2",
   "version": "2.7.10"
  }
 },
 "nbformat": 4,
 "nbformat_minor": 0
}
